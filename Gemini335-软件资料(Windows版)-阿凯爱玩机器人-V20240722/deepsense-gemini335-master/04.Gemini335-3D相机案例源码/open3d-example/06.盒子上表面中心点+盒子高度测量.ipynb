{
 "cells": [
  {
   "cell_type": "markdown",
   "id": "3321215c",
   "metadata": {},
   "source": [
    "```\n",
    "@作者: 阿凯爱玩机器人\n",
    "@QQ: 244561792\n",
    "@微信: xingshunkai\n",
    "@邮箱: xingshunkai@qq.com\n",
    "@网址: deepsenserobot.com\n",
    "@B站: \"阿凯爱玩机器人\"\n",
    "```"
   ]
  },
  {
   "cell_type": "markdown",
   "id": "23d40877",
   "metadata": {},
   "source": [
    "## 导入依赖"
   ]
  },
  {
   "cell_type": "code",
   "execution_count": 1,
   "id": "20b4de7d",
   "metadata": {},
   "outputs": [
    {
     "name": "stderr",
     "output_type": "stream",
     "text": [
      "pybullet build time: Jun  3 2022 02:05:55\n"
     ]
    }
   ],
   "source": [
    "import numpy as np\n",
    "import open3d as o3d\n",
    "# 自定义库\n",
    "from kyle_robot_toolbox.open3d import *"
   ]
  },
  {
   "cell_type": "markdown",
   "id": "5b80ef2a",
   "metadata": {},
   "source": [
    "## 载入点云"
   ]
  },
  {
   "cell_type": "code",
   "execution_count": 2,
   "id": "4038bfbf",
   "metadata": {},
   "outputs": [],
   "source": [
    "# 载入场景点云\n",
    "scene_pcd = o3d.io.read_point_cloud(f\"./data/example/box_pose/pcd_rect_roi.pcd\")\n",
    "\n",
    "# 载入盒子表面点云\n",
    "box_panel_pcd = o3d.io.read_point_cloud(\"./data/example/box_pose/box_panel_pcd.pcd\")\n",
    "\n",
    "# 赋值为蓝色\n",
    "box_panel_pcd.paint_uniform_color([0.0, 0.0, 1.0])\n",
    "\n",
    "# 点云可视化\n",
    "o3d.visualization.draw_geometries([scene_pcd], window_name=\"盒子场景点云\")"
   ]
  },
  {
   "cell_type": "code",
   "execution_count": 3,
   "id": "263cadb1",
   "metadata": {},
   "outputs": [],
   "source": [
    "# 创建彩色相机坐标系的Mesh\n",
    "cam_corrd_mesh = o3d.geometry.TriangleMesh.create_coordinate_frame(size=0.05)\n",
    "# 显示盒子上表面点云与相机坐标系\n",
    "o3d.visualization.draw_geometries([box_panel_pcd,  cam_corrd_mesh], \\\n",
    "                                  window_name=\"盒子上表面点云与相机坐标系\")"
   ]
  },
  {
   "cell_type": "markdown",
   "id": "ec90d419",
   "metadata": {},
   "source": [
    "## 获取点云中心点"
   ]
  },
  {
   "cell_type": "code",
   "execution_count": 4,
   "id": "51acf18b",
   "metadata": {},
   "outputs": [
    {
     "name": "stdout",
     "output_type": "stream",
     "text": [
      "盒子点云中心点: [0.048 0.002 0.224]\n"
     ]
    }
   ],
   "source": [
    "center_point = box_panel_pcd.get_center()\n",
    "print(f\"盒子点云中心点: {center_point}\")"
   ]
  },
  {
   "cell_type": "code",
   "execution_count": 5,
   "id": "be682764",
   "metadata": {},
   "outputs": [],
   "source": [
    "# 可视化，在质心位置绘制小球\n",
    "mesh_sphere = o3d.geometry.TriangleMesh.create_sphere(radius=0.002)\n",
    "mesh_sphere.compute_vertex_normals()\n",
    "# 小球平移\n",
    "mesh_sphere.translate(center_point.reshape(-1), relative=False)\n",
    "# 给小球上色为红色\n",
    "mesh_sphere.paint_uniform_color([0.0, 1.0, 0])\n",
    "# 创建可视化窗口\n",
    "draw_geometry([scene_pcd, mesh_sphere],\\\n",
    "                window_name=\"绘制盒子上表面中心点\")"
   ]
  },
  {
   "cell_type": "markdown",
   "id": "d149fb8c",
   "metadata": {},
   "source": [
    "## 盒子高度测量"
   ]
  },
  {
   "cell_type": "markdown",
   "id": "a2194a49",
   "metadata": {},
   "source": [
    "之前有做过工作台平面拟合，有了盒子上表面的质心坐标就可以计算盒子的高度。 "
   ]
  },
  {
   "cell_type": "code",
   "execution_count": 6,
   "id": "bf721605",
   "metadata": {},
   "outputs": [
    {
     "name": "stdout",
     "output_type": "stream",
     "text": [
      "拟合桌面平面的表达式: 0.05x + 0.01y + 1.00z + -0.26 = 0\n"
     ]
    }
   ],
   "source": [
    "# 载入工作台的平面数据\n",
    "desktop_panel_model = np.loadtxt(\"./data/example/box_pose/desktop_panel_model.txt\", delimiter=\",\")\n",
    "\n",
    "[A, B, C, D] = desktop_panel_model\n",
    "print(f\"拟合桌面平面的表达式: {A:.2f}x + {B:.2f}y + {C:.2f}z + {D:.2f} = 0\")"
   ]
  },
  {
   "cell_type": "code",
   "execution_count": 7,
   "id": "2f351bf0",
   "metadata": {},
   "outputs": [
    {
     "name": "stdout",
     "output_type": "stream",
     "text": [
      "盒子高度(点到平面距离) 0.029, 单位m\n"
     ]
    }
   ],
   "source": [
    "# 计算中心点距离平面的距离\n",
    "distance = get_distance_to_panel(A, B, C, D, center_point)\n",
    "print(f\"盒子高度(点到平面距离) {distance:.3f}, 单位m\")"
   ]
  }
 ],
 "metadata": {
  "kernelspec": {
   "display_name": "Python 3 (ipykernel)",
   "language": "python",
   "name": "python3"
  },
  "language_info": {
   "codemirror_mode": {
    "name": "ipython",
    "version": 3
   },
   "file_extension": ".py",
   "mimetype": "text/x-python",
   "name": "python",
   "nbconvert_exporter": "python",
   "pygments_lexer": "ipython3",
   "version": "3.8.16"
  }
 },
 "nbformat": 4,
 "nbformat_minor": 5
}
