{
 "cells": [
  {
   "cell_type": "markdown",
   "id": "f4288840",
   "metadata": {},
   "source": [
    "## 概要\n",
    "将盒子上表面的3D点云投影在桌面所在的空间平面"
   ]
  },
  {
   "cell_type": "markdown",
   "id": "08d696c0",
   "metadata": {},
   "source": [
    "```\n",
    "@作者: 阿凯爱玩机器人\n",
    "@QQ: 244561792\n",
    "@微信: xingshunkai\n",
    "@邮箱: xingshunkai@qq.com\n",
    "@网址: deepsenserobot.com\n",
    "@B站: \"阿凯爱玩机器人\"\n",
    "```"
   ]
  },
  {
   "cell_type": "markdown",
   "id": "f41d7491",
   "metadata": {},
   "source": [
    "## 导入依赖"
   ]
  },
  {
   "cell_type": "code",
   "execution_count": 1,
   "id": "008ff85e",
   "metadata": {},
   "outputs": [
    {
     "name": "stderr",
     "output_type": "stream",
     "text": [
      "pybullet build time: Jun  3 2022 02:05:55\n"
     ]
    }
   ],
   "source": [
    "import copy\n",
    "import numpy as np\n",
    "import cv2\n",
    "import open3d as o3d\n",
    "# 自定义库\n",
    "from kyle_robot_toolbox.open3d import *"
   ]
  },
  {
   "cell_type": "markdown",
   "id": "667d6de0",
   "metadata": {},
   "source": [
    "## 载入点云"
   ]
  },
  {
   "cell_type": "code",
   "execution_count": 2,
   "id": "4aa75407",
   "metadata": {},
   "outputs": [],
   "source": [
    "# 场景点云\n",
    "scene_pcd = o3d.io.read_point_cloud(f\"./data/example/box_pose/pcd_rect_roi.pcd\")\n",
    "\n",
    "# 载入盒子表面点云\n",
    "# 去除离群点后的\n",
    "box_panel_pcd = o3d.io.read_point_cloud(\"./data/example/box_pose/box_panel_filter.pcd\")\n",
    "\n",
    "# 赋值为灰色\n",
    "box_panel_pcd.paint_uniform_color([0.5, 0.5, 0.5])\n",
    "\n",
    "# 点云可视化\n",
    "draw_geometry([box_panel_pcd], window_name=\"移除离群点后的上表面点云\")"
   ]
  },
  {
   "cell_type": "markdown",
   "id": "5c99f3f7",
   "metadata": {},
   "source": [
    "## 载入桌面拟合平面"
   ]
  },
  {
   "cell_type": "code",
   "execution_count": 3,
   "id": "cde4023a",
   "metadata": {},
   "outputs": [
    {
     "name": "stdout",
     "output_type": "stream",
     "text": [
      "拟合桌面平面的表达式: 0.05x + 0.01y + 1.00z + -0.26 = 0\n"
     ]
    }
   ],
   "source": [
    "# 载入工作台的平面数据\n",
    "desktop_panel_model = np.loadtxt(\"data/example/box_pose/desktop_panel_model.txt\", delimiter=\",\")\n",
    "\n",
    "[A, B, C, D] = desktop_panel_model\n",
    "print(f\"拟合桌面平面的表达式: {A:.2f}x + {B:.2f}y + {C:.2f}z + {D:.2f} = 0\")"
   ]
  },
  {
   "cell_type": "markdown",
   "id": "6d6826ca",
   "metadata": {},
   "source": [
    "## 点云投影到空间平面"
   ]
  },
  {
   "cell_type": "code",
   "execution_count": 4,
   "id": "ce16f752",
   "metadata": {},
   "outputs": [
    {
     "data": {
      "text/plain": [
       "PointCloud with 4436 points."
      ]
     },
     "execution_count": 4,
     "metadata": {},
     "output_type": "execute_result"
    }
   ],
   "source": [
    "# 投影到空间平面上的点\n",
    "box_underside_pcd = pcd_project2panel(box_panel_pcd, A, B, C, D, x0=0, y0=0, z0=0)\n",
    "box_underside_pcd.paint_uniform_color([0.0, 1.0, 0])"
   ]
  },
  {
   "cell_type": "code",
   "execution_count": 5,
   "id": "bb711506",
   "metadata": {},
   "outputs": [],
   "source": [
    "# 点云可视化\n",
    "draw_geometry([box_panel_pcd, box_underside_pcd],\\\n",
    "                                  window_name=\"盒子下表面点云\")"
   ]
  },
  {
   "cell_type": "code",
   "execution_count": null,
   "id": "aeabe05b",
   "metadata": {},
   "outputs": [],
   "source": [
    "# 点云可视化\n",
    "draw_geometry([scene_pcd, box_underside_pcd],\\\n",
    "                                  window_name=\"盒子下表面点云\")"
   ]
  },
  {
   "cell_type": "code",
   "execution_count": null,
   "id": "c5250665",
   "metadata": {},
   "outputs": [],
   "source": [
    "# 保存点云\n",
    "o3d.io.write_point_cloud(\"./data/example/box_pose/box_underside_pcd.pcd\", box_underside_pcd)"
   ]
  },
  {
   "cell_type": "markdown",
   "id": "c0797312",
   "metadata": {},
   "source": [
    "## 将点云投影在盒子上表面所在的平面"
   ]
  },
  {
   "cell_type": "markdown",
   "id": "b497c27a",
   "metadata": {},
   "source": [
    "根据案例`05.盒子上表面中心点与高度测量`得到盒子的高度为0.076m，这里不再赘述。 \n",
    "盒子上表面与桌面是平行关系，因此可以根据桌面平面表达式得到盒子上表面平面表达式。\n",
    "\n",
    "也可以将`box_height`设置为游标卡尺的实际测量值。"
   ]
  },
  {
   "cell_type": "code",
   "execution_count": null,
   "id": "1cbfbdc7",
   "metadata": {},
   "outputs": [],
   "source": [
    "# 盒子高度，单位m\n",
    "box_height = 0.03\n",
    "# 盒子上表面的表达式\n",
    "box_top_panel_model = [A, B, C, D + box_height] "
   ]
  },
  {
   "cell_type": "code",
   "execution_count": null,
   "id": "b6b826c0",
   "metadata": {},
   "outputs": [],
   "source": [
    "A2, B2, C2, D2 = box_top_panel_model\n",
    "# 投影到空间平面上的点\n",
    "box_top_pcd = pcd_project2panel(box_panel_pcd, A2, B2, C2, D2, x0=0, y0=0, z0=0)\n",
    "# 绘制为蓝色\n",
    "box_top_pcd.paint_uniform_color([0.0, 0.0, 1.0])"
   ]
  },
  {
   "cell_type": "code",
   "execution_count": null,
   "id": "6621941b",
   "metadata": {},
   "outputs": [],
   "source": [
    "# 点云可视化\n",
    "o3d.visualization.draw_geometries([scene_pcd, box_underside_pcd, box_top_pcd],\\\n",
    "                                  window_name=\"盒子上表面点云\")"
   ]
  }
 ],
 "metadata": {
  "kernelspec": {
   "display_name": "Python 3 (ipykernel)",
   "language": "python",
   "name": "python3"
  },
  "language_info": {
   "codemirror_mode": {
    "name": "ipython",
    "version": 3
   },
   "file_extension": ".py",
   "mimetype": "text/x-python",
   "name": "python",
   "nbconvert_exporter": "python",
   "pygments_lexer": "ipython3",
   "version": "3.10.6"
  }
 },
 "nbformat": 4,
 "nbformat_minor": 5
}
