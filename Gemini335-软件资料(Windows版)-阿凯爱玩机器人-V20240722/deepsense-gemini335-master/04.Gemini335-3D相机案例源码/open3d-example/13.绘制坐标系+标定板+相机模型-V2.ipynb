{
 "cells": [
  {
   "cell_type": "markdown",
   "id": "44fa0525",
   "metadata": {},
   "source": [
    "```\n",
    "@作者: 阿凯爱玩机器人\n",
    "@QQ: 244561792\n",
    "@微信: xingshunkai\n",
    "@邮箱: xingshunkai@qq.com\n",
    "@网址: deepsenserobot.com\n",
    "@B站: \"阿凯爱玩机器人\"\n",
    "```"
   ]
  },
  {
   "cell_type": "markdown",
   "id": "11c15027",
   "metadata": {},
   "source": [
    "## 导入依赖"
   ]
  },
  {
   "cell_type": "code",
   "execution_count": 1,
   "id": "cdbc0270",
   "metadata": {},
   "outputs": [
    {
     "name": "stderr",
     "output_type": "stream",
     "text": [
      "pybullet build time: Jun  3 2022 02:05:55\n"
     ]
    }
   ],
   "source": [
    "import copy\n",
    "import numpy as np\n",
    "import cv2\n",
    "from matplotlib import pyplot as plt\n",
    "import open3d as o3d\n",
    "\n",
    "# 自定义库\n",
    "from kyle_robot_toolbox.transform import Transform\n",
    "from kyle_robot_toolbox.open3d import *\n",
    "\n",
    "np.set_printoptions(precision=5, suppress=True)"
   ]
  },
  {
   "cell_type": "markdown",
   "id": "67b1f7d2",
   "metadata": {},
   "source": [
    "## 载入数据"
   ]
  },
  {
   "cell_type": "code",
   "execution_count": 2,
   "id": "f6a4f59a",
   "metadata": {},
   "outputs": [
    {
     "name": "stdout",
     "output_type": "stream",
     "text": [
      "T_cam2board: \n",
      "[[ 0.99963  0.01352 -0.02364 -0.00883]\n",
      " [ 0.0115  -0.99643 -0.0836  -0.06985]\n",
      " [-0.02468  0.0833  -0.99622  0.7825 ]\n",
      " [ 0.       0.       0.       1.     ]]\n",
      "Camera Intrinsic:  \n",
      "[[608.099   0.    338.379]\n",
      " [  0.    609.32  240.369]\n",
      " [  0.      0.      1.   ]]\n"
     ]
    }
   ],
   "source": [
    "# 载入相机到标定板的空间变换\n",
    "T_cam2board = np.load(\"data/example/draw_camera/T_cam2board.npy\")\n",
    "print(f\"T_cam2board: \\n{T_cam2board}\")\n",
    "\n",
    "# 相机内参\n",
    "intrinsic = np.load(\"data/example/draw_camera/intrinsic.npy\")\n",
    "print(f\"Camera Intrinsic:  \\n{intrinsic}\")"
   ]
  },
  {
   "cell_type": "markdown",
   "id": "de69b5e9",
   "metadata": {},
   "source": [
    "## 绘制相机模型 + 标定板坐标系"
   ]
  },
  {
   "cell_type": "code",
   "execution_count": 3,
   "id": "77918a35",
   "metadata": {},
   "outputs": [],
   "source": [
    "# 相机在世界坐标系下的位姿\n",
    "T_world2cam = np.eye(4)\n",
    "\n",
    "# 图像尺寸\n",
    "img_width = 640\n",
    "img_height = 480\n",
    "# 可视化相机平面距离相机坐标系原点距离\n",
    "# 单位m\n",
    "panel_distance = 0.1\n",
    "\n",
    "camera_geometries = geometry_camera(intrinsic, T_world2cam, \\\n",
    "        img_width, img_height, \\\n",
    "        panel_distance = panel_distance, \\\n",
    "        color=[0.8, 0.2, 0.2], \\\n",
    "        draw_panel=False)\n",
    "\n",
    "# 标定板坐标系\n",
    "coord_board = geometry_coordinate(T_cam2board, size=0.15)"
   ]
  },
  {
   "cell_type": "markdown",
   "id": "cac7aef1",
   "metadata": {},
   "source": [
    "## 绘制标定板模型"
   ]
  },
  {
   "cell_type": "code",
   "execution_count": 4,
   "id": "6aa3087c",
   "metadata": {},
   "outputs": [
    {
     "name": "stdout",
     "output_type": "stream",
     "text": [
      "标定板 宽度:0.600000 高度:0.400  深度:0.002\n"
     ]
    }
   ],
   "source": [
    "# 获取标定板尺寸\n",
    "# 单位: mm -> m\n",
    "board_width = 0.6\n",
    "board_height = 0.4\n",
    "board_depth = 0.002 # 标定板厚度 # 0.002\n",
    "\n",
    "print(f\"标定板 宽度:{board_width:3f} 高度:{board_height:.3f}  深度:{board_depth}\")"
   ]
  },
  {
   "cell_type": "code",
   "execution_count": 5,
   "id": "e086f8b4",
   "metadata": {},
   "outputs": [],
   "source": [
    "board = geometry_box(T_cam2board, board_width, board_height, box_depth=board_depth, color=[0.5, 0.5, 0.5])\n",
    "# 同时绘制相机模型与标定板坐标系+标定板\n",
    "draw_geometry(camera_geometries + [coord_board, board], bk_color=[1, 1, 1])"
   ]
  }
 ],
 "metadata": {
  "kernelspec": {
   "display_name": "Python 3 (ipykernel)",
   "language": "python",
   "name": "python3"
  },
  "language_info": {
   "codemirror_mode": {
    "name": "ipython",
    "version": 3
   },
   "file_extension": ".py",
   "mimetype": "text/x-python",
   "name": "python",
   "nbconvert_exporter": "python",
   "pygments_lexer": "ipython3",
   "version": "3.10.6"
  }
 },
 "nbformat": 4,
 "nbformat_minor": 5
}
