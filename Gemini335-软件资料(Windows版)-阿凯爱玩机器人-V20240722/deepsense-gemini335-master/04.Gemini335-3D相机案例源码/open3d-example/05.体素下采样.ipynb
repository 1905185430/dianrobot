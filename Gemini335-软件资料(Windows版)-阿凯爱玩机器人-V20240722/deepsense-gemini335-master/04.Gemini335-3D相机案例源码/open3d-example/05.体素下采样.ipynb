{
 "cells": [
  {
   "cell_type": "markdown",
   "id": "8c79d6c6",
   "metadata": {},
   "source": [
    "```\n",
    "@作者: 阿凯爱玩机器人\n",
    "@QQ: 244561792\n",
    "@微信: xingshunkai\n",
    "@邮箱: xingshunkai@qq.com\n",
    "@网址: deepsenserobot.com\n",
    "@B站: \"阿凯爱玩机器人\"\n",
    "```"
   ]
  },
  {
   "cell_type": "markdown",
   "id": "539d27f8",
   "metadata": {},
   "source": [
    "## 导入依赖"
   ]
  },
  {
   "cell_type": "code",
   "execution_count": 1,
   "id": "6edace95",
   "metadata": {},
   "outputs": [
    {
     "name": "stderr",
     "output_type": "stream",
     "text": [
      "pybullet build time: Jun  3 2022 02:05:55\n"
     ]
    }
   ],
   "source": [
    "import numpy as np\n",
    "import open3d as o3d\n",
    "# 自定义库\n",
    "from kyle_robot_toolbox.open3d import *"
   ]
  },
  {
   "cell_type": "markdown",
   "id": "8be25cff",
   "metadata": {},
   "source": [
    "## 载入点云"
   ]
  },
  {
   "cell_type": "code",
   "execution_count": 2,
   "id": "18226b41",
   "metadata": {},
   "outputs": [],
   "source": [
    "# 载入场景点云\n",
    "scene_pcd = o3d.io.read_point_cloud(f\"./data/example/box_pose/pcd_rect_roi.pcd\")\n",
    "\n",
    "# 载入盒子表面点云\n",
    "box_panel_pcd = o3d.io.read_point_cloud(\"./data/example/box_pose/box_panel_pcd.pcd\")\n",
    "# 点云可视化\n",
    "draw_geometry([scene_pcd], window_name=\"原始点云\")"
   ]
  },
  {
   "cell_type": "markdown",
   "id": "f27e580e",
   "metadata": {},
   "source": [
    "## 法向量估计与重定向"
   ]
  },
  {
   "cell_type": "code",
   "execution_count": 3,
   "id": "471447fc",
   "metadata": {},
   "outputs": [],
   "source": [
    "# 法向量估计-配置参数\n",
    "ESTIMATE_NORMALS_RADIUS = 0.01 # 法向量检索半径，单位m\n",
    "ESTIMATE_NORMALS_MAX_NN = 20   # 法向量估计最大邻居数\n",
    "\n",
    "# 法向量估计\n",
    "box_panel_pcd.estimate_normals(search_param=\\\n",
    "            o3d.geometry.KDTreeSearchParamHybrid(radius=ESTIMATE_NORMALS_RADIUS,\n",
    "            max_nn=ESTIMATE_NORMALS_MAX_NN))\n",
    "\n",
    "# 法向量重定向\n",
    "o3d.geometry.PointCloud.orient_normals_towards_camera_location(\\\n",
    "                        box_panel_pcd, camera_location=[0,0,0])\n",
    "# 可视化\n",
    "draw_geometry([box_panel_pcd], bk_color=[1, 1, 1], \\\n",
    "              point_show_normal=True, window_name=\"重定向后的盒子上表面法向量\")"
   ]
  },
  {
   "cell_type": "markdown",
   "id": "848e877e",
   "metadata": {},
   "source": [
    "## 点云下采样"
   ]
  },
  {
   "cell_type": "code",
   "execution_count": 4,
   "id": "bdcd3b48",
   "metadata": {},
   "outputs": [],
   "source": [
    "# 体素下采样的尺寸 单位m\n",
    "DOWN_SAMPLE_VOXEL_SIZE = 0.005\n",
    "\n",
    "# 下采样\n",
    "box_panel_downsample =  box_panel_pcd.voxel_down_sample(\\\n",
    "                            voxel_size=DOWN_SAMPLE_VOXEL_SIZE)\n",
    "\n",
    "# 绘制下采样的PCD\n",
    "draw_geometry([box_panel_downsample], bk_color=[1, 1, 1],\\\n",
    "              point_show_normal=True, window_name=\"下采样后的盒子上表面点云\")"
   ]
  }
 ],
 "metadata": {
  "kernelspec": {
   "display_name": "Python 3 (ipykernel)",
   "language": "python",
   "name": "python3"
  },
  "language_info": {
   "codemirror_mode": {
    "name": "ipython",
    "version": 3
   },
   "file_extension": ".py",
   "mimetype": "text/x-python",
   "name": "python",
   "nbconvert_exporter": "python",
   "pygments_lexer": "ipython3",
   "version": "3.8.16"
  }
 },
 "nbformat": 4,
 "nbformat_minor": 5
}
