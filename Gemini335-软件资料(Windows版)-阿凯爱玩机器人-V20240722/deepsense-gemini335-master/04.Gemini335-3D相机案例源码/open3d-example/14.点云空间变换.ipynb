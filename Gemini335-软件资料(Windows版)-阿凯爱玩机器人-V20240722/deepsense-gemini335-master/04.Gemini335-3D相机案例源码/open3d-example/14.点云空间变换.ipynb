{
 "cells": [
  {
   "cell_type": "markdown",
   "id": "44890d12",
   "metadata": {},
   "source": [
    "##  概要"
   ]
  },
  {
   "cell_type": "markdown",
   "id": "6c743d5a",
   "metadata": {},
   "source": [
    "本案例演示的是将点云从一个参考坐标系转换为另外一个参考坐标系。 \n",
    "\n",
    "```\n",
    "@作者: 阿凯爱玩机器人\n",
    "@QQ: 244561792\n",
    "@微信: xingshunkai\n",
    "@邮箱: xingshunkai@qq.com\n",
    "@网址: deepsenserobot.com\n",
    "@B站: \"阿凯爱玩机器人\"\n",
    "```"
   ]
  },
  {
   "cell_type": "markdown",
   "id": "fd339d75",
   "metadata": {},
   "source": [
    "## 导入依赖"
   ]
  },
  {
   "cell_type": "code",
   "execution_count": 1,
   "id": "861c4ad0",
   "metadata": {},
   "outputs": [
    {
     "name": "stderr",
     "output_type": "stream",
     "text": [
      "pybullet build time: Jun  3 2022 02:05:55\n"
     ]
    }
   ],
   "source": [
    "import numpy as np\n",
    "import cv2\n",
    "from matplotlib import pyplot as plt\n",
    "import open3d as o3d\n",
    "\n",
    "# 自定义库\n",
    "from kyle_robot_toolbox.transform import Transform\n",
    "from kyle_robot_toolbox.open3d import *\n",
    "from kyle_robot_toolbox.camera import Gemini335\n",
    "\n",
    "np.set_printoptions(precision=3, suppress=True)"
   ]
  },
  {
   "cell_type": "markdown",
   "id": "5f7ee389",
   "metadata": {},
   "source": [
    "## 创建相机对象"
   ]
  },
  {
   "cell_type": "code",
   "execution_count": 2,
   "id": "01420207",
   "metadata": {},
   "outputs": [],
   "source": [
    "# 创建相机对象\n",
    "camera = Gemini335()"
   ]
  },
  {
   "cell_type": "markdown",
   "id": "3c7808be",
   "metadata": {},
   "source": [
    "## 载入数据"
   ]
  },
  {
   "cell_type": "code",
   "execution_count": 3,
   "id": "7ef6407c",
   "metadata": {},
   "outputs": [],
   "source": [
    "# 从文件中载入彩图\n",
    "# 从文件中载入深度图\n",
    "img_name = \"radon\" # 图像ID\n",
    "color_image = cv2.imread(f\"./data/example/radon_caliboard_pose_rgb/{img_name}.png\")\n",
    "# 保存深度图 二进制格式\n",
    "depth_image = np.load(f\"./data/example/radon_caliboard_pose_rgb/{img_name}.npy\")"
   ]
  },
  {
   "cell_type": "code",
   "execution_count": 4,
   "id": "5a79703f",
   "metadata": {},
   "outputs": [],
   "source": [
    "# PCD点云\n",
    "pcd = camera.get_pcd(color_image, depth_image, camera=\"rgb_camera\")\n",
    "# 绘制相机坐标系与点云\n",
    "# 创建坐标系的Mesh\n",
    "corrd_mesh_cam = o3d.geometry.TriangleMesh.create_coordinate_frame(size=0.1)\n",
    "\n",
    "draw_geometry([pcd, corrd_mesh_cam], bk_color=[0.2, 0.5, 8.0])"
   ]
  },
  {
   "cell_type": "markdown",
   "id": "fc47d705",
   "metadata": {},
   "source": [
    "## 点云空间变换\n",
    "\n",
    "将PCD点云从相机坐标系转换为标定板坐标系。\n",
    "转换公式如下:"
   ]
  },
  {
   "cell_type": "markdown",
   "id": "d597da33",
   "metadata": {},
   "source": [
    "$$\n",
    "^{board}P = ^{board}_{cam}T * ^{cam}P\n",
    "$$"
   ]
  },
  {
   "cell_type": "code",
   "execution_count": 5,
   "id": "8976f8da",
   "metadata": {},
   "outputs": [],
   "source": [
    "# 标定板坐标系在相机坐标系下的位姿\n",
    "T_cam2board = np.loadtxt(\"./data/example/radon_caliboard_pose_rgb/T_cam2board.txt\",\\\n",
    "                    delimiter=\",\")"
   ]
  },
  {
   "cell_type": "code",
   "execution_count": 6,
   "id": "e27c4462",
   "metadata": {},
   "outputs": [
    {
     "name": "stdout",
     "output_type": "stream",
     "text": [
      "标定板坐标系到相机坐标系的空间变换\n",
      "[[-0.999  0.032 -0.012 -0.007]\n",
      " [ 0.032  0.999 -0.002 -0.009]\n",
      " [ 0.012 -0.002 -1.     0.314]\n",
      " [ 0.     0.     0.     1.   ]]\n"
     ]
    }
   ],
   "source": [
    "# 求解标定板坐标系到相机坐标系的空间变换\n",
    "T_board2cam = Transform.inverse(T_cam2board)\n",
    "print(\"标定板坐标系到相机坐标系的空间变换\")\n",
    "print(T_board2cam)"
   ]
  },
  {
   "cell_type": "code",
   "execution_count": 7,
   "id": "3ae88481",
   "metadata": {},
   "outputs": [],
   "source": [
    "# 点云空间变换\n",
    "pcd_in_board = copy.deepcopy(pcd)\n",
    "pcd_in_board.transform(T_board2cam)\n",
    "\n",
    "# 绘制标定板坐标系与点云\n",
    "# 创建坐标系的Mesh\n",
    "corrd_mesh_board = o3d.geometry.TriangleMesh.create_coordinate_frame(size=0.1)\n",
    "\n",
    "draw_geometry([pcd_in_board, corrd_mesh_board], bk_color=[0.2, 0.5, 8.0])"
   ]
  }
 ],
 "metadata": {
  "kernelspec": {
   "display_name": "Python 3 (ipykernel)",
   "language": "python",
   "name": "python3"
  },
  "language_info": {
   "codemirror_mode": {
    "name": "ipython",
    "version": 3
   },
   "file_extension": ".py",
   "mimetype": "text/x-python",
   "name": "python",
   "nbconvert_exporter": "python",
   "pygments_lexer": "ipython3",
   "version": "3.10.6"
  }
 },
 "nbformat": 4,
 "nbformat_minor": 5
}
