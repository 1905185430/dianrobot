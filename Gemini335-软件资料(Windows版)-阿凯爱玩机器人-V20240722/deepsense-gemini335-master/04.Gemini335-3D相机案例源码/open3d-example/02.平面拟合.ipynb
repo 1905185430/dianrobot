{
 "cells": [
  {
   "cell_type": "markdown",
   "id": "e9c4394c",
   "metadata": {},
   "source": [
    "```\n",
    "@作者: 阿凯爱玩机器人\n",
    "@QQ: 244561792\n",
    "@微信: xingshunkai\n",
    "@邮箱: xingshunkai@qq.com\n",
    "@网址: deepsenserobot.com\n",
    "@B站: \"阿凯爱玩机器人\"\n",
    "```"
   ]
  },
  {
   "cell_type": "markdown",
   "id": "b31cc884",
   "metadata": {},
   "source": [
    "## 导入依赖"
   ]
  },
  {
   "cell_type": "code",
   "execution_count": 1,
   "id": "abcee53b",
   "metadata": {},
   "outputs": [
    {
     "name": "stderr",
     "output_type": "stream",
     "text": [
      "pybullet build time: Jun  3 2022 02:05:55\n"
     ]
    }
   ],
   "source": [
    "import numpy as np\n",
    "import open3d as o3d\n",
    "# 自定义库\n",
    "from kyle_robot_toolbox.open3d import *"
   ]
  },
  {
   "cell_type": "markdown",
   "id": "8cb6af58",
   "metadata": {},
   "source": [
    "## 载入点云"
   ]
  },
  {
   "cell_type": "code",
   "execution_count": 2,
   "id": "0e4bc493",
   "metadata": {},
   "outputs": [],
   "source": [
    "scene_pcd = o3d.io.read_point_cloud(f\"./data/example/box_pose/pcd_rect_roi.pcd\")\n",
    "# 点云可视化\n",
    "o3d.visualization.draw_geometries([scene_pcd])"
   ]
  },
  {
   "cell_type": "markdown",
   "id": "31fc1ca0",
   "metadata": {},
   "source": [
    "## 平面拟合"
   ]
  },
  {
   "cell_type": "code",
   "execution_count": 3,
   "id": "48992806",
   "metadata": {},
   "outputs": [
    {
     "name": "stdout",
     "output_type": "stream",
     "text": [
      "拟合桌面平面的表达式: 0.05x + 0.01y + 1.00z + -0.26 = 0\n"
     ]
    }
   ],
   "source": [
    "# 距离阈值 单位m\n",
    "# 距离平面多少的点被认为是在这个平面上的点\n",
    "distance_threshold = 0.005\n",
    "# 平面拟合\n",
    "plane_model, inliers = scene_pcd.segment_plane(distance_threshold=distance_threshold,\n",
    "                                         ransac_n=3,\n",
    "                                         num_iterations=500)\n",
    "# 打印拟合平面的表达式\n",
    "[a, b, c, d] = plane_model\n",
    "print(f\"拟合桌面平面的表达式: {a:.2f}x + {b:.2f}y + {c:.2f}z + {d:.2f} = 0\")\n",
    "\n",
    "# 工作平面上的点云\n",
    "ws_panel_cloud = scene_pcd.select_by_index(inliers)\n",
    "ws_panel_cloud.paint_uniform_color([1.0, 0, 0])\n",
    "\n",
    "\n",
    "draw_geometry([ws_panel_cloud])"
   ]
  },
  {
   "cell_type": "code",
   "execution_count": 4,
   "id": "90b03ee0",
   "metadata": {},
   "outputs": [],
   "source": [
    "# 保存平面拟合的结果\n",
    "# 保存平面信息\n",
    "panel_model = np.float32([a, b, c, d])\n",
    "np.savetxt(\"./data/example/box_pose/desktop_panel_model.txt\", panel_model, delimiter=\",\", fmt=\"%.4f\")"
   ]
  },
  {
   "cell_type": "markdown",
   "id": "1cd358a0",
   "metadata": {},
   "source": [
    "##  移除工作台平面后的点云"
   ]
  },
  {
   "cell_type": "code",
   "execution_count": 5,
   "id": "45d2201e",
   "metadata": {},
   "outputs": [],
   "source": [
    "# 工作台平面上的点云\n",
    "scene_pcd_on_panel = scene_pcd.select_by_index(inliers)\n",
    "\n",
    "# 将工作平面上的点云移除\n",
    "scene_pcd_rm_panel = scene_pcd.select_by_index(inliers, invert=True)\n",
    "# 可视化\n",
    "draw_geometry([scene_pcd_rm_panel])"
   ]
  },
  {
   "cell_type": "markdown",
   "id": "855a09d5",
   "metadata": {},
   "source": [
    "## 移除平面后方的点\n",
    "\n",
    "在点云边缘存在噪声，有些噪声在拟合得到的工作台平面后方。 \n",
    "把这些点移除"
   ]
  },
  {
   "cell_type": "code",
   "execution_count": 6,
   "id": "7ecee444",
   "metadata": {},
   "outputs": [],
   "source": [
    "points_3d = np.asarray(scene_pcd_rm_panel.points)\n",
    "# 分别获取X坐标, Y坐标, Z坐标的列表\n",
    "x_list = points_3d[:, 0]\n",
    "y_list = points_3d[:, 1]\n",
    "z_list = points_3d[:, 2]"
   ]
  },
  {
   "cell_type": "code",
   "execution_count": 7,
   "id": "f87b7bce",
   "metadata": {},
   "outputs": [],
   "source": [
    "# 获取平面内侧的点云\n",
    "value = a*x_list + b*y_list + c*z_list + d\n",
    "pcd_close_panel_index = np.argwhere(value > 0)\n",
    "\n",
    "scene_pcd_close_panel = scene_pcd_rm_panel.select_by_index(pcd_close_panel_index, invert=True)\n",
    "draw_geometry([scene_pcd_close_panel])"
   ]
  },
  {
   "cell_type": "markdown",
   "id": "e685cdbb",
   "metadata": {},
   "source": [
    "![](./image/移除平面下方的点云.png)"
   ]
  },
  {
   "cell_type": "markdown",
   "id": "27f49e0c",
   "metadata": {},
   "source": [
    "## 拟合盒子上表面"
   ]
  },
  {
   "cell_type": "code",
   "execution_count": 8,
   "id": "74205f42",
   "metadata": {},
   "outputs": [
    {
     "name": "stdout",
     "output_type": "stream",
     "text": [
      "拟合盒子平面的表达式: 0.08x + 0.01y + 1.00z + -0.23 = 0\n"
     ]
    }
   ],
   "source": [
    "# 距离阈值 单位m\n",
    "# 距离平面多少的点被认为是在这个平面上的点\n",
    "distance_threshold = 0.01\n",
    "# 平面拟合\n",
    "box_plane_model, inliers = scene_pcd_close_panel.segment_plane(distance_threshold=distance_threshold,\n",
    "                                         ransac_n=3,\n",
    "                                         num_iterations=500)\n",
    "# 打印拟合平面的表达式\n",
    "[a, b, c, d] = box_plane_model\n",
    "print(f\"拟合盒子平面的表达式: {a:.2f}x + {b:.2f}y + {c:.2f}z + {d:.2f} = 0\")\n",
    "\n",
    "# 工作平面上的点云\n",
    "box_panel_pcd = scene_pcd_close_panel.select_by_index(inliers)\n",
    "box_panel_pcd.paint_uniform_color([0, 1.0, 0])\n",
    "\n",
    "draw_geometry([box_panel_pcd, scene_pcd_on_panel])"
   ]
  },
  {
   "cell_type": "code",
   "execution_count": 9,
   "id": "f00f6454",
   "metadata": {},
   "outputs": [],
   "source": [
    "# 保存平面拟合的结果\n",
    "# 保存平面信息\n",
    "panel_model = np.float32([a, b, c, d])\n",
    "np.savetxt(\"./data/example/box_pose/box_panel_model.txt\", box_plane_model, delimiter=\",\", fmt=\"%.4f\")"
   ]
  },
  {
   "cell_type": "code",
   "execution_count": 10,
   "id": "25e46786",
   "metadata": {},
   "outputs": [
    {
     "data": {
      "text/plain": [
       "True"
      ]
     },
     "execution_count": 10,
     "metadata": {},
     "output_type": "execute_result"
    }
   ],
   "source": [
    "# 保存盒子表面的点云\n",
    "# 保存PCD点云 二进制格式\n",
    "o3d.io.write_point_cloud(\"./data/example/box_pose/box_panel_pcd.pcd\", box_panel_pcd)"
   ]
  }
 ],
 "metadata": {
  "kernelspec": {
   "display_name": "Python 3 (ipykernel)",
   "language": "python",
   "name": "python3"
  },
  "language_info": {
   "codemirror_mode": {
    "name": "ipython",
    "version": 3
   },
   "file_extension": ".py",
   "mimetype": "text/x-python",
   "name": "python",
   "nbconvert_exporter": "python",
   "pygments_lexer": "ipython3",
   "version": "3.10.6"
  },
  "vscode": {
   "interpreter": {
    "hash": "fcacecaa3eb64164e6fbf1499d5b38f0196064d8d6976c3ee687efb90456e6a0"
   }
  }
 },
 "nbformat": 4,
 "nbformat_minor": 5
}
