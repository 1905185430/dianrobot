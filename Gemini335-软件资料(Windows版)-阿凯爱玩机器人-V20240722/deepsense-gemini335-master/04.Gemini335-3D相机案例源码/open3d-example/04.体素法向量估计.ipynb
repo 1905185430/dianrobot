{
 "cells": [
  {
   "cell_type": "markdown",
   "id": "235e470b",
   "metadata": {},
   "source": [
    "```\n",
    "@作者: 阿凯爱玩机器人\n",
    "@QQ: 244561792\n",
    "@微信: xingshunkai\n",
    "@邮箱: xingshunkai@qq.com\n",
    "@网址: deepsenserobot.com\n",
    "@B站: \"阿凯爱玩机器人\"\n",
    "```"
   ]
  },
  {
   "cell_type": "markdown",
   "id": "de730485",
   "metadata": {},
   "source": [
    "## 导入依赖"
   ]
  },
  {
   "cell_type": "code",
   "execution_count": 1,
   "id": "ff71972a",
   "metadata": {},
   "outputs": [
    {
     "name": "stderr",
     "output_type": "stream",
     "text": [
      "pybullet build time: Jun  3 2022 02:05:55\n"
     ]
    }
   ],
   "source": [
    "import numpy as np\n",
    "import open3d as o3d\n",
    "# 自定义库\n",
    "from kyle_robot_toolbox.open3d import *"
   ]
  },
  {
   "cell_type": "markdown",
   "id": "74476f44",
   "metadata": {},
   "source": [
    "## 载入点云"
   ]
  },
  {
   "cell_type": "code",
   "execution_count": 2,
   "id": "41f2c7dc",
   "metadata": {},
   "outputs": [],
   "source": [
    "# 载入场景点云\n",
    "scene_pcd = o3d.io.read_point_cloud(f\"./data/example/box_pose/pcd_rect_roi.pcd\")\n",
    "\n",
    "# 载入盒子表面点云\n",
    "box_panel_pcd = o3d.io.read_point_cloud(\"./data/example/box_pose/box_panel_pcd.pcd\")\n",
    "\n",
    "\n",
    "# 点云可视化\n",
    "o3d.visualization.draw_geometries([scene_pcd], window_name=\"原始点云\")"
   ]
  },
  {
   "cell_type": "markdown",
   "id": "0bf46cd4",
   "metadata": {},
   "source": [
    "## 法向量估计"
   ]
  },
  {
   "cell_type": "code",
   "execution_count": 3,
   "id": "5477993e",
   "metadata": {},
   "outputs": [],
   "source": [
    "# 法向量估计-配置参数\n",
    "ESTIMATE_NORMALS_RADIUS = 0.01 # 法向量检索半径，单位m\n",
    "ESTIMATE_NORMALS_MAX_NN = 20   # 法向量估计最大邻居数\n",
    "\n",
    "# 法向量估计\n",
    "box_panel_pcd.estimate_normals(search_param=\\\n",
    "            o3d.geometry.KDTreeSearchParamHybrid(radius=ESTIMATE_NORMALS_RADIUS,\n",
    "            max_nn=ESTIMATE_NORMALS_MAX_NN))\n",
    "# 可视化\n",
    "draw_geometry([box_panel_pcd], bk_color=[1, 1, 1], \\\n",
    "              point_show_normal=True, window_name=\"重定向前的盒子上表面法向量\")"
   ]
  },
  {
   "cell_type": "markdown",
   "id": "7baf5e3f",
   "metadata": {},
   "source": [
    "## 法向量重定向\n",
    "\n",
    "调整法向量的方向，让其指向相机坐标系原点一侧。"
   ]
  },
  {
   "cell_type": "code",
   "execution_count": 4,
   "id": "0f9baf78",
   "metadata": {},
   "outputs": [],
   "source": [
    "# 法向量重定向\n",
    "o3d.geometry.PointCloud.orient_normals_towards_camera_location(\\\n",
    "                        box_panel_pcd, camera_location=[0,0,0])\n",
    "# 可视化\n",
    "draw_geometry([box_panel_pcd], bk_color=[1, 1, 1], \\\n",
    "              point_show_normal=True, window_name=\"重定向后的盒子上表面法向量\")"
   ]
  },
  {
   "cell_type": "markdown",
   "id": "65bcea81",
   "metadata": {},
   "source": [
    "## 获取单个点的法向量\n",
    "注意事项: 要先进行法向量估计才可以获取单个体素的法向量估计"
   ]
  },
  {
   "cell_type": "code",
   "execution_count": 5,
   "id": "f08233b6",
   "metadata": {},
   "outputs": [
    {
     "name": "stdout",
     "output_type": "stream",
     "text": [
      "点在相机坐标系下的坐标: [ 0.058 -0.012  0.224]\n",
      "该点的法向量：[-0. -0. -1.]\n"
     ]
    }
   ],
   "source": [
    "point_idx = 100 # 点的索引ID， 人为指定\n",
    "point3d = box_panel_pcd.points[point_idx]\n",
    "print(f\"点在相机坐标系下的坐标: {point3d}\")\n",
    "\n",
    "normal = box_panel_pcd.normals[point_idx]\n",
    "print(f\"该点的法向量：{normal}\")"
   ]
  }
 ],
 "metadata": {
  "kernelspec": {
   "display_name": "Python 3 (ipykernel)",
   "language": "python",
   "name": "python3"
  },
  "language_info": {
   "codemirror_mode": {
    "name": "ipython",
    "version": 3
   },
   "file_extension": ".py",
   "mimetype": "text/x-python",
   "name": "python",
   "nbconvert_exporter": "python",
   "pygments_lexer": "ipython3",
   "version": "3.8.16"
  }
 },
 "nbformat": 4,
 "nbformat_minor": 5
}
