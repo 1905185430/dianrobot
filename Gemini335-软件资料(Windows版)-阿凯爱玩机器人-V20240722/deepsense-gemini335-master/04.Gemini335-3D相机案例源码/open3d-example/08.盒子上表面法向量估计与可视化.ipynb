{
 "cells": [
  {
   "cell_type": "markdown",
   "id": "54495ec8",
   "metadata": {},
   "source": [
    "```\n",
    "@作者: 阿凯爱玩机器人\n",
    "@QQ: 244561792\n",
    "@微信: xingshunkai\n",
    "@邮箱: xingshunkai@qq.com\n",
    "@网址: deepsenserobot.com\n",
    "@B站: \"阿凯爱玩机器人\"\n",
    "```"
   ]
  },
  {
   "cell_type": "markdown",
   "id": "e77fa871",
   "metadata": {},
   "source": [
    "## 导入依赖"
   ]
  },
  {
   "cell_type": "code",
   "execution_count": 1,
   "id": "a6ce3797",
   "metadata": {},
   "outputs": [
    {
     "name": "stderr",
     "output_type": "stream",
     "text": [
      "pybullet build time: Jun  3 2022 02:05:55\n"
     ]
    }
   ],
   "source": [
    "import copy\n",
    "import numpy as np\n",
    "import cv2\n",
    "import open3d as o3d\n",
    "# 自定义库\n",
    "from kyle_robot_toolbox.open3d import *"
   ]
  },
  {
   "cell_type": "markdown",
   "id": "96356f5b",
   "metadata": {},
   "source": [
    "## 载入点云"
   ]
  },
  {
   "cell_type": "code",
   "execution_count": 2,
   "id": "8db2af28",
   "metadata": {},
   "outputs": [],
   "source": [
    "# 载入场景点云\n",
    "scene_pcd = o3d.io.read_point_cloud(f\"./data/example/box_pose/pcd_rect_roi.pcd\")\n",
    "\n",
    "# 载入盒子表面点云\n",
    "box_panel_pcd = o3d.io.read_point_cloud(\"./data/example/box_pose/box_panel_pcd.pcd\")\n",
    "\n",
    "# 赋值为灰色\n",
    "box_panel_pcd.paint_uniform_color([0.5, 0.5, 0.5])\n",
    "\n",
    "# 点云可视化\n",
    "o3d.visualization.draw_geometries([scene_pcd], window_name=\"scene_pcd\")"
   ]
  },
  {
   "cell_type": "markdown",
   "id": "a5719c5d",
   "metadata": {},
   "source": [
    "## 获取点云质心"
   ]
  },
  {
   "cell_type": "code",
   "execution_count": 3,
   "id": "caf0f9dc",
   "metadata": {},
   "outputs": [
    {
     "name": "stdout",
     "output_type": "stream",
     "text": [
      "盒子上表面质心: [0.048 0.002 0.224]\n"
     ]
    }
   ],
   "source": [
    "center_point = box_panel_pcd.get_center()\n",
    "print(f\"盒子上表面质心: {center_point}\")"
   ]
  },
  {
   "cell_type": "code",
   "execution_count": 4,
   "id": "14a22900",
   "metadata": {},
   "outputs": [],
   "source": [
    "# 可视化，在质心位置绘制小球\n",
    "mesh_sphere = o3d.geometry.TriangleMesh.create_sphere(radius=0.002)\n",
    "mesh_sphere.compute_vertex_normals()\n",
    "# 小球平移\n",
    "mesh_sphere.translate(center_point.reshape(-1), relative=False)\n",
    "# 给小球上色为红色\n",
    "mesh_sphere.paint_uniform_color([0.0, 1.0, 0])\n",
    "# 创建可视化窗口\n",
    "draw_geometry([scene_pcd, mesh_sphere],\\\n",
    "                window_name=\"绘制盒子上表面中心点\")"
   ]
  },
  {
   "cell_type": "markdown",
   "id": "c8a76084",
   "metadata": {},
   "source": [
    "## 根据搜索半径进行检索"
   ]
  },
  {
   "cell_type": "code",
   "execution_count": 5,
   "id": "56f1b755",
   "metadata": {},
   "outputs": [],
   "source": [
    "# 创建盒子上表面点云的KDTree\n",
    "box_panel_kdtree = o3d.geometry.KDTreeFlann(box_panel_pcd)"
   ]
  },
  {
   "cell_type": "code",
   "execution_count": 6,
   "id": "18b75051",
   "metadata": {},
   "outputs": [
    {
     "name": "stdout",
     "output_type": "stream",
     "text": [
      "寻找距离 中心点[0.048 0.002 0.224] \n",
      "半径为0.005的邻居，并将其绘制为蓝色\n",
      "实际找到的邻居个数: 423\n"
     ]
    }
   ],
   "source": [
    "# 检索半径, 单位m\n",
    "radius = 0.005\n",
    "print(f\"寻找距离 中心点{center_point} \\n半径为{radius}的邻居，并将其绘制为蓝色\")\n",
    "k, idx, _ = box_panel_kdtree.search_radius_vector_3d(center_point, radius)\n",
    "print(f\"实际找到的邻居个数: {k}\")"
   ]
  },
  {
   "cell_type": "code",
   "execution_count": 7,
   "id": "f0e3f493",
   "metadata": {},
   "outputs": [],
   "source": [
    "# 可视化\n",
    "box_panel_pcd3 = copy.deepcopy(box_panel_pcd)\n",
    "# 点云上色\n",
    "np.asarray(box_panel_pcd3.colors)[idx, :] = [0, 0, 1]\n",
    "draw_geometry([box_panel_pcd3], \\\n",
    "              bk_color=[0.4, 0.8, 0.4], \\\n",
    "              window_name=\"上表面点云+根据半径检索的点云\")"
   ]
  },
  {
   "cell_type": "markdown",
   "id": "ca94807e",
   "metadata": {},
   "source": [
    "## 盒子上表面法向量估计"
   ]
  },
  {
   "cell_type": "code",
   "execution_count": 8,
   "id": "2fe8e066",
   "metadata": {},
   "outputs": [],
   "source": [
    "# 法向量估计-配置参数\n",
    "ESTIMATE_NORMALS_RADIUS = 0.005 # 法向量检索半径，单位m\n",
    "ESTIMATE_NORMALS_MAX_NN = 20   # 法向量估计最大邻居数\n",
    "\n",
    "# 法向量估计\n",
    "box_panel_pcd.estimate_normals(search_param=\\\n",
    "            o3d.geometry.KDTreeSearchParamHybrid(radius=ESTIMATE_NORMALS_RADIUS,\n",
    "            max_nn=ESTIMATE_NORMALS_MAX_NN))\n",
    "# 法向量重定向\n",
    "o3d.geometry.PointCloud.orient_normals_towards_camera_location(\\\n",
    "                        box_panel_pcd, camera_location=[0,0,0])\n",
    "\n",
    "# 可视化\n",
    "draw_geometry([box_panel_pcd], bk_color=[1, 1, 1], point_show_normal=True)"
   ]
  },
  {
   "cell_type": "markdown",
   "id": "c06a7062",
   "metadata": {},
   "source": [
    "## 计算质心处的法向量\n",
    "\n",
    "### 计算质心处的法向量(方法1)\n",
    "\n",
    "根据邻居体素的法向量估计质心的法向量, 法向量求均值。 "
   ]
  },
  {
   "cell_type": "code",
   "execution_count": 9,
   "id": "0d6e2153",
   "metadata": {},
   "outputs": [
    {
     "name": "stdout",
     "output_type": "stream",
     "text": [
      "邻居节点法向量均值:\n",
      " [[-0.046]\n",
      " [-0.006]\n",
      " [-0.999]]\n"
     ]
    }
   ],
   "source": [
    "# 法向量均值\n",
    "# 注：因为这些点都是被投影到一个平面上的， 因此他们的法向量是同一个值\n",
    "neighbor_normal_vector = np.asarray(box_panel_pcd.normals)[idx]\n",
    "# print(f\"neighbor_normal_vector: \\n{neighbor_normal_vector}\")\n",
    "center_normal_vector = np.mean(neighbor_normal_vector, axis=0)\n",
    "center_normal_vector /= np.linalg.norm(center_normal_vector) # 归一化\n",
    "center_normal_vector = center_normal_vector.reshape((3, 1))\n",
    "print(f\"邻居节点法向量均值:\\n {center_normal_vector}\")"
   ]
  },
  {
   "cell_type": "markdown",
   "id": "8d6b33ac",
   "metadata": {},
   "source": [
    "### 计算质心处的法向量(方法2）"
   ]
  },
  {
   "cell_type": "markdown",
   "id": "3f268056",
   "metadata": {},
   "source": [
    "根据盒子上表面的拟合公式, 得到法向量"
   ]
  },
  {
   "cell_type": "code",
   "execution_count": 10,
   "id": "a9bc2c77",
   "metadata": {},
   "outputs": [
    {
     "name": "stdout",
     "output_type": "stream",
     "text": [
      "盒子上表面的表达式: 0.08x + 0.01y + 1.00z + -0.23 = 0\n"
     ]
    }
   ],
   "source": [
    "box_plane_model = np.loadtxt(\"./data/example/box_pose/box_panel_model.txt\")\n",
    "a, b, c, d = box_plane_model\n",
    "print(f\"盒子上表面的表达式: {a:.2f}x + {b:.2f}y + {c:.2f}z + {d:.2f} = 0\")"
   ]
  },
  {
   "cell_type": "code",
   "execution_count": 11,
   "id": "f1c0e922",
   "metadata": {},
   "outputs": [
    {
     "name": "stdout",
     "output_type": "stream",
     "text": [
      "平面法向量: \n",
      "[[-0.083]\n",
      " [-0.012]\n",
      " [-0.996]]\n"
     ]
    }
   ],
   "source": [
    "# 获取平面法向量\n",
    "center_normal_vector = get_panel_normal_vector(a, b, c, d)\n",
    "# 法向量重定向\n",
    "center_normal_vector = normal_vector_redirect(center_normal_vector, center_point)\n",
    "print(f\"平面法向量: \\n{center_normal_vector}\")"
   ]
  },
  {
   "cell_type": "markdown",
   "id": "8e4ea0e7",
   "metadata": {},
   "source": [
    "### 计算质心处的法向量(方法3）\n",
    "\n",
    "因为盒子上表面与桌面平行, 因此二者的法向量是一致的。于是根据桌面平面的表达式就可以求解盒子上表面的法向量， 这样得到的结果更精准一些。"
   ]
  },
  {
   "cell_type": "code",
   "execution_count": 12,
   "id": "fd8189c1",
   "metadata": {},
   "outputs": [
    {
     "name": "stdout",
     "output_type": "stream",
     "text": [
      "桌面的表达式: 0.05x + 0.01y + 1.00z + -0.26 = 0\n"
     ]
    }
   ],
   "source": [
    "box_plane_model = np.loadtxt(\"./data/example/box_pose/desktop_panel_model.txt\")\n",
    "a, b, c, d = box_plane_model\n",
    "print(f\"桌面的表达式: {a:.2f}x + {b:.2f}y + {c:.2f}z + {d:.2f} = 0\")"
   ]
  },
  {
   "cell_type": "code",
   "execution_count": 13,
   "id": "029bf90a",
   "metadata": {},
   "outputs": [
    {
     "name": "stdout",
     "output_type": "stream",
     "text": [
      "平面法向量: \n",
      "[[-0.049]\n",
      " [-0.007]\n",
      " [-0.999]]\n"
     ]
    }
   ],
   "source": [
    "# 获取平面法向量\n",
    "center_normal_vector = get_panel_normal_vector(a, b, c, d)\n",
    "# 法向量重定向\n",
    "center_normal_vector = normal_vector_redirect(center_normal_vector, center_point)\n",
    "print(f\"平面法向量: \\n{center_normal_vector}\")"
   ]
  },
  {
   "cell_type": "markdown",
   "id": "ef9eb910",
   "metadata": {},
   "source": [
    "## 法向量可视化"
   ]
  },
  {
   "cell_type": "code",
   "execution_count": 14,
   "id": "a0bac192",
   "metadata": {},
   "outputs": [
    {
     "name": "stdout",
     "output_type": "stream",
     "text": [
      "cos_theta: [[-0.999]] theta=[[177.182]]\n",
      "旋转向量: [ 0.138 -0.99   0.   ]\n",
      "旋转矩阵:\n",
      "  [[-0.961 -0.274 -0.049]\n",
      " [-0.274  0.962 -0.007]\n",
      " [ 0.049  0.007 -0.999]]\n"
     ]
    }
   ],
   "source": [
    "# 计算向量之间的夹角\n",
    "z0 = np.float64([0, 0, 1]).reshape((3, 1))\n",
    "cos_theta = z0.T.dot(center_normal_vector)\n",
    "theta = np.arccos(cos_theta)\n",
    "print(f\"cos_theta: {cos_theta} theta={np.degrees(theta)}\")\n",
    "# 向量叉乘得到旋转轴\n",
    "rot_vect = np.cross(z0.reshape(-1), center_normal_vector.reshape(-1))\n",
    "rot_vect /= np.linalg.norm(rot_vect) # 归一化\n",
    "print(f\"旋转向量: {rot_vect}\")\n",
    "# 构造旋转矩阵\n",
    "rot_mat = cv2.Rodrigues(rot_vect*theta)[0]\n",
    "print(f\"旋转矩阵:\\n  {rot_mat}\")"
   ]
  },
  {
   "cell_type": "code",
   "execution_count": 15,
   "id": "b4f54b28",
   "metadata": {},
   "outputs": [],
   "source": [
    "# 绘制箭头\n",
    "mesh_arrow = o3d.geometry.TriangleMesh.create_arrow(\\\n",
    "                    cylinder_radius=0.002, cone_radius=0.004,\\\n",
    "                    cylinder_height=0.05,  cone_height=0.01, \\\n",
    "                    resolution=20, cylinder_split=4, cone_split=1)\n",
    "\n",
    "mesh_arrow.paint_uniform_color([0.0, 0.0, 1.0])\n",
    "mesh_arrow.rotate(rot_mat, center=(0, 0, 0))\n",
    "mesh_arrow.translate(center_point.reshape(-1), relative=True)\n",
    "\n",
    "draw_geometry([box_panel_pcd, mesh_arrow], bk_color=[1, 1, 1], point_show_normal=False, \\\n",
    "              window_name=\"绘制盒子上表面的法向量\")"
   ]
  },
  {
   "cell_type": "markdown",
   "id": "2613d5c1",
   "metadata": {},
   "source": [
    "绘制更大场景"
   ]
  },
  {
   "cell_type": "code",
   "execution_count": 16,
   "id": "3d87d4f5",
   "metadata": {},
   "outputs": [],
   "source": [
    "draw_geometry([scene_pcd, mesh_arrow], bk_color=[1, 1, 1], \\\n",
    "              point_show_normal=True, window_name=\"绘制盒子上表面的法向量(大场景)\")"
   ]
  }
 ],
 "metadata": {
  "kernelspec": {
   "display_name": "Python 3 (ipykernel)",
   "language": "python",
   "name": "python3"
  },
  "language_info": {
   "codemirror_mode": {
    "name": "ipython",
    "version": 3
   },
   "file_extension": ".py",
   "mimetype": "text/x-python",
   "name": "python",
   "nbconvert_exporter": "python",
   "pygments_lexer": "ipython3",
   "version": "3.8.16"
  }
 },
 "nbformat": 4,
 "nbformat_minor": 5
}
