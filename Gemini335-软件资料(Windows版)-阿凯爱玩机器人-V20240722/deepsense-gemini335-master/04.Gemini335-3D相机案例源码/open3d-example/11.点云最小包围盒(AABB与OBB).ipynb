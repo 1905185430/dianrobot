{
 "cells": [
  {
   "cell_type": "markdown",
   "id": "0a2a776f",
   "metadata": {},
   "source": [
    "```\n",
    "@作者: 阿凯爱玩机器人\n",
    "@QQ: 244561792\n",
    "@微信: xingshunkai\n",
    "@邮箱: xingshunkai@qq.com\n",
    "@网址: deepsenserobot.com\n",
    "@B站: \"阿凯爱玩机器人\"\n",
    "```"
   ]
  },
  {
   "cell_type": "markdown",
   "id": "e77fa871",
   "metadata": {},
   "source": [
    "## 导入依赖"
   ]
  },
  {
   "cell_type": "code",
   "execution_count": 1,
   "id": "953c90b6",
   "metadata": {},
   "outputs": [
    {
     "name": "stderr",
     "output_type": "stream",
     "text": [
      "pybullet build time: Jun  3 2022 02:05:55\n"
     ]
    }
   ],
   "source": [
    "import copy\n",
    "import numpy as np\n",
    "import cv2\n",
    "import open3d as o3d\n",
    "# 自定义库\n",
    "from kyle_robot_toolbox.open3d import *\n",
    "\n",
    "np.set_printoptions(precision=3, suppress=True)"
   ]
  },
  {
   "cell_type": "markdown",
   "id": "96356f5b",
   "metadata": {},
   "source": [
    "## 载入点云"
   ]
  },
  {
   "cell_type": "code",
   "execution_count": 2,
   "id": "8db2af28",
   "metadata": {},
   "outputs": [],
   "source": [
    "# 载入盒子表面点云\n",
    "# 去除离群点后的\n",
    "box_panel_pcd = o3d.io.read_point_cloud(\"./data/example/box_pose/box_panel_filter.pcd\")\n",
    "# 赋值为灰色\n",
    "box_panel_pcd.paint_uniform_color([0.5, 0.5, 0.5])\n",
    "# 点云可视化\n",
    "draw_geometry([box_panel_pcd], window_name=\"盒子上表面点云\")"
   ]
  },
  {
   "cell_type": "markdown",
   "id": "f2139b6a",
   "metadata": {},
   "source": [
    "## 计算点云AABB包围盒"
   ]
  },
  {
   "cell_type": "code",
   "execution_count": 3,
   "id": "6eed2325",
   "metadata": {},
   "outputs": [],
   "source": [
    "# 点云AABB包围盒\n",
    "aabb = box_panel_pcd.get_axis_aligned_bounding_box()\n",
    "aabb.color = [1, 0, 0] # 红色\n",
    "\n",
    "# 绘制AABB\n",
    "o3d.visualization.draw_geometries([box_panel_pcd, aabb], window_name=\"点云AABB包围盒\",\n",
    "                                  width=800,  # 窗口宽度\n",
    "                                  height=600)  # 窗口高度"
   ]
  },
  {
   "cell_type": "code",
   "execution_count": 4,
   "id": "68ec0281",
   "metadata": {},
   "outputs": [
    {
     "name": "stdout",
     "output_type": "stream",
     "text": [
      "min_bound: [ 0.033 -0.013  0.222]\n",
      "x_min=0.0328 y_min=-0.0129 z_min=0.2220, 单位m\n"
     ]
    }
   ],
   "source": [
    "# 包围盒,最小值坐标 [x_min, y_min, z_min]\n",
    "print(f\"min_bound: {aabb.min_bound}\")\n",
    "x_min, y_min, z_min = aabb.min_bound\n",
    "print(f\"x_min={x_min:.4f} y_min={y_min:.4f} z_min={z_min:.4f}, 单位m\")"
   ]
  },
  {
   "cell_type": "code",
   "execution_count": 5,
   "id": "6eebcfc7",
   "metadata": {},
   "outputs": [
    {
     "name": "stdout",
     "output_type": "stream",
     "text": [
      "max_bound: [0.064 0.017 0.226]\n",
      "x_max=0.0642 y_max=0.0166 z_max=0.2260, 单位m\n"
     ]
    }
   ],
   "source": [
    "print(f\"max_bound: {aabb.max_bound}\")\n",
    "x_max, y_max, z_max = aabb.max_bound\n",
    "print(f\"x_max={x_max:.4f} y_max={y_max:.4f} z_max={z_max:.4f}, 单位m\")"
   ]
  },
  {
   "cell_type": "code",
   "execution_count": 6,
   "id": "6c5cbace",
   "metadata": {},
   "outputs": [
    {
     "name": "stdout",
     "output_type": "stream",
     "text": [
      "AABB包围盒尺寸: 长: 0.0314 宽: 0.0295 高: 0.0040\n"
     ]
    }
   ],
   "source": [
    "# AABB包围盒的尺寸\n",
    "length = x_max - x_min\n",
    "width = y_max - y_min \n",
    "height = z_max - z_min\n",
    "print(f\"AABB包围盒尺寸: 长: {length:.4f} 宽: {width:.4f} 高: {height:.4f}\")"
   ]
  },
  {
   "cell_type": "markdown",
   "id": "4e1a3c98",
   "metadata": {},
   "source": [
    "## 计算OBB包围盒\n",
    "OBB为旋转包围盒"
   ]
  },
  {
   "cell_type": "code",
   "execution_count": 7,
   "id": "754afed2",
   "metadata": {},
   "outputs": [],
   "source": [
    "# 点云OBB包围盒\n",
    "robust = True # 鲁棒开关， 实际测试robust=True效果反而会不好\n",
    "obb = box_panel_pcd.get_oriented_bounding_box(robust=robust)\n",
    "obb.color = [0, 1, 0] # 绿色\n",
    "\n",
    "# 绘制OBB\n",
    "o3d.visualization.draw_geometries([box_panel_pcd, obb], window_name=\"点云OBB包围盒\",\n",
    "                                  width=800,  # 窗口宽度\n",
    "                                  height=600)  # 窗口高度"
   ]
  },
  {
   "cell_type": "code",
   "execution_count": 8,
   "id": "6cbbd729",
   "metadata": {},
   "outputs": [
    {
     "name": "stdout",
     "output_type": "stream",
     "text": [
      "OBB包围盒的维度: 3\n"
     ]
    }
   ],
   "source": [
    "print(f\"OBB包围盒的维度: {obb.dimension()}\")"
   ]
  },
  {
   "cell_type": "code",
   "execution_count": 9,
   "id": "d5e6f0be",
   "metadata": {},
   "outputs": [
    {
     "name": "stdout",
     "output_type": "stream",
     "text": [
      "OBB包围盒中心点: [0.048 0.001 0.225]\n"
     ]
    }
   ],
   "source": [
    "print(f\"OBB包围盒中心点: {obb.center}\")"
   ]
  },
  {
   "cell_type": "code",
   "execution_count": 10,
   "id": "17aca93a",
   "metadata": {},
   "outputs": [
    {
     "name": "stdout",
     "output_type": "stream",
     "text": [
      "OBB包围盒的尺寸: 长: 0.0371 宽: 0.0372 高: 0.0021\n"
     ]
    }
   ],
   "source": [
    "length, width, height = obb.extent\n",
    "print(f\"OBB包围盒的尺寸: 长: {length:.4f} 宽: {width:.4f} 高: {height:.4f}\")"
   ]
  },
  {
   "cell_type": "code",
   "execution_count": 11,
   "id": "8f2776a8",
   "metadata": {},
   "outputs": [
    {
     "name": "stdout",
     "output_type": "stream",
     "text": [
      "[[ 0.022  0.002  0.226]\n",
      " [ 0.047 -0.025  0.224]\n",
      " [ 0.049  0.028  0.223]\n",
      " [ 0.022  0.002  0.228]\n",
      " [ 0.074  0.001  0.223]\n",
      " [ 0.049  0.028  0.225]\n",
      " [ 0.047 -0.025  0.226]\n",
      " [ 0.074  0.001  0.221]]\n"
     ]
    }
   ],
   "source": [
    "# 包围盒的8个角点\n",
    "print(np.asarray(obb.get_box_points()))"
   ]
  },
  {
   "cell_type": "markdown",
   "id": "673f6ae3",
   "metadata": {},
   "source": [
    "## AABB与OBB二者对比"
   ]
  },
  {
   "cell_type": "code",
   "execution_count": 12,
   "id": "b29ba613",
   "metadata": {},
   "outputs": [],
   "source": [
    "o3d.visualization.draw_geometries([box_panel_pcd, aabb, obb], window_name=\"点云AABB与OBB包围盒\",\n",
    "                                  width=800,  # 窗口宽度\n",
    "                                  height=600)  # 窗口高度"
   ]
  }
 ],
 "metadata": {
  "kernelspec": {
   "display_name": "Python 3 (ipykernel)",
   "language": "python",
   "name": "python3"
  },
  "language_info": {
   "codemirror_mode": {
    "name": "ipython",
    "version": 3
   },
   "file_extension": ".py",
   "mimetype": "text/x-python",
   "name": "python",
   "nbconvert_exporter": "python",
   "pygments_lexer": "ipython3",
   "version": "3.10.6"
  }
 },
 "nbformat": 4,
 "nbformat_minor": 5
}
