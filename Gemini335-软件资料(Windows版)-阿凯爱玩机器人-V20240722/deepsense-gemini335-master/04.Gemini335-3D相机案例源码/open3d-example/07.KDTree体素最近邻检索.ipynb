{
 "cells": [
  {
   "cell_type": "markdown",
   "id": "f8f8c3a5",
   "metadata": {},
   "source": [
    "```\n",
    "@作者: 阿凯爱玩机器人\n",
    "@QQ: 244561792\n",
    "@微信: xingshunkai\n",
    "@邮箱: xingshunkai@qq.com\n",
    "@网址: deepsenserobot.com\n",
    "@B站: \"阿凯爱玩机器人\"\n",
    "```"
   ]
  },
  {
   "cell_type": "markdown",
   "id": "e77fa871",
   "metadata": {},
   "source": [
    "## 导入依赖"
   ]
  },
  {
   "cell_type": "code",
   "execution_count": 1,
   "id": "953c90b6",
   "metadata": {},
   "outputs": [
    {
     "name": "stderr",
     "output_type": "stream",
     "text": [
      "pybullet build time: Jun  3 2022 02:05:55\n"
     ]
    }
   ],
   "source": [
    "import copy\n",
    "import numpy as np\n",
    "import open3d as o3d\n",
    "# 自定义库\n",
    "from kyle_robot_toolbox.open3d import *"
   ]
  },
  {
   "cell_type": "markdown",
   "id": "96356f5b",
   "metadata": {},
   "source": [
    "## 载入点云"
   ]
  },
  {
   "cell_type": "code",
   "execution_count": 2,
   "id": "8db2af28",
   "metadata": {},
   "outputs": [],
   "source": [
    "# 载入场景点云\n",
    "scene_pcd = o3d.io.read_point_cloud(f\"./data/example/box_pose/pcd_rect_roi.pcd\")\n",
    "\n",
    "# 载入盒子表面点云\n",
    "box_panel_pcd = o3d.io.read_point_cloud(\"./data/example/box_pose/box_panel_pcd.pcd\")\n",
    "\n",
    "# 赋值为灰色\n",
    "box_panel_pcd.paint_uniform_color([0.5, 0.5, 0.5])\n",
    "\n",
    "# 点云可视化\n",
    "o3d.visualization.draw_geometries([scene_pcd], window_name=\"场景点云\")"
   ]
  },
  {
   "cell_type": "markdown",
   "id": "a5719c5d",
   "metadata": {},
   "source": [
    "## 获取点云质心"
   ]
  },
  {
   "cell_type": "code",
   "execution_count": 3,
   "id": "caf0f9dc",
   "metadata": {},
   "outputs": [
    {
     "name": "stdout",
     "output_type": "stream",
     "text": [
      "盒子上表面质心: [0.048 0.002 0.224]\n"
     ]
    }
   ],
   "source": [
    "center_point = box_panel_pcd.get_center()\n",
    "print(f\"盒子上表面质心: {center_point}\")"
   ]
  },
  {
   "cell_type": "code",
   "execution_count": 4,
   "id": "14a22900",
   "metadata": {},
   "outputs": [],
   "source": [
    "# 可视化，在质心位置绘制小球\n",
    "mesh_sphere = o3d.geometry.TriangleMesh.create_sphere(radius=0.002)\n",
    "mesh_sphere.compute_vertex_normals()\n",
    "# 小球平移\n",
    "mesh_sphere.translate(center_point.reshape(-1), relative=False)\n",
    "# 给小球上色为红色\n",
    "mesh_sphere.paint_uniform_color([0.0, 1.0, 0])\n",
    "# 创建可视化窗口\n",
    "draw_geometry([scene_pcd, mesh_sphere],\\\n",
    "                window_name=\"绘制盒子上表面中心点\")"
   ]
  },
  {
   "cell_type": "markdown",
   "id": "6406e8f5",
   "metadata": {},
   "source": [
    "## 创建KDTree"
   ]
  },
  {
   "cell_type": "code",
   "execution_count": 5,
   "id": "56f1b755",
   "metadata": {},
   "outputs": [],
   "source": [
    "# 创建盒子上表面点云的KDTree\n",
    "box_panel_kdtree = o3d.geometry.KDTreeFlann(box_panel_pcd)"
   ]
  },
  {
   "cell_type": "markdown",
   "id": "9785e11d",
   "metadata": {},
   "source": [
    "## 获取体素最近的N个邻居"
   ]
  },
  {
   "cell_type": "code",
   "execution_count": 6,
   "id": "867abc34",
   "metadata": {},
   "outputs": [
    {
     "name": "stdout",
     "output_type": "stream",
     "text": [
      "寻找距离 中心点[0.048 0.002 0.224] \n",
      "最近的40个邻居，并将其绘制为蓝色\n",
      "实际找到的邻居个数: 40\n"
     ]
    }
   ],
   "source": [
    "neighbor_num = 40 # 邻居个数\n",
    "print(f\"寻找距离 中心点{center_point} \\n最近的{neighbor_num}个邻居，并将其绘制为蓝色\")\n",
    "k, idx, _ = box_panel_kdtree.search_knn_vector_3d(center_point, neighbor_num)\n",
    "print(f\"实际找到的邻居个数: {k}\")"
   ]
  },
  {
   "cell_type": "code",
   "execution_count": 7,
   "id": "75abdc1a",
   "metadata": {},
   "outputs": [
    {
     "name": "stdout",
     "output_type": "stream",
     "text": [
      "邻居点的索引: IntVector[2261, 2260, 2193, 2192, 2329, 2262, 2328, 2194, 2330, 2259, 2125, 2191, 2124, 2327, 2126, 2398, 2263, 2397, 2195, 2399, 2123, 2331, 2258, 2396, 2056, 2190, 2127, 2055, 2326, 2057, 2400, 2467, 2264, 2466, 2122, 2054, 2196, 2468, 2332, 2395]\n"
     ]
    }
   ],
   "source": [
    "print(f\"邻居点的索引: {idx}\")"
   ]
  },
  {
   "cell_type": "code",
   "execution_count": 12,
   "id": "0186474b",
   "metadata": {},
   "outputs": [],
   "source": [
    "# 可视化\n",
    "box_panel_pcd2 = copy.deepcopy(box_panel_pcd)\n",
    "# 点云上色\n",
    "np.asarray(box_panel_pcd2.colors)[idx, :] = [0, 0, 1]\n",
    "\n",
    "draw_geometry([box_panel_pcd2], \\\n",
    "              bk_color=[0.4, 0.8, 0.4], \\\n",
    "              window_name=\"上表面点云+N个最近邻\")"
   ]
  },
  {
   "cell_type": "code",
   "execution_count": 13,
   "id": "5531949a",
   "metadata": {},
   "outputs": [],
   "source": [
    "# 根据索引获取选择到的点云\n",
    "center_neighbor_pcd = box_panel_pcd2.select_by_index(idx)\n",
    "\n",
    "o3d.visualization.draw_geometries([center_neighbor_pcd],\\\n",
    "                                  window_name=\"N个最近邻\")"
   ]
  },
  {
   "cell_type": "markdown",
   "id": "c8a76084",
   "metadata": {},
   "source": [
    "## 根据搜索半径进行检索"
   ]
  },
  {
   "cell_type": "code",
   "execution_count": 16,
   "id": "18b75051",
   "metadata": {},
   "outputs": [
    {
     "name": "stdout",
     "output_type": "stream",
     "text": [
      "寻找距离 中心点[0.048 0.002 0.224] \n",
      "半径为0.003的邻居，并将其绘制为蓝色\n",
      "实际找到的邻居个数: 149\n"
     ]
    }
   ],
   "source": [
    "# 检索半径, 单位m\n",
    "radius = 0.003\n",
    "print(f\"寻找距离 中心点{center_point} \\n半径为{radius}的邻居，并将其绘制为蓝色\")\n",
    "k, idx, _ = box_panel_kdtree.search_radius_vector_3d(center_point, radius)\n",
    "print(f\"实际找到的邻居个数: {k}\")"
   ]
  },
  {
   "cell_type": "code",
   "execution_count": null,
   "id": "f0e3f493",
   "metadata": {},
   "outputs": [],
   "source": [
    "# 可视化\n",
    "box_panel_pcd3 = copy.deepcopy(box_panel_pcd)\n",
    "# 点云上色\n",
    "np.asarray(box_panel_pcd3.colors)[idx, :] = [0, 0, 1]\n",
    "\n",
    "draw_geometry([box_panel_pcd3], \\\n",
    "              bk_color=[0.4, 0.8, 0.4], \\\n",
    "              window_name=\"上表面点云+根据半径检索的点云\")"
   ]
  }
 ],
 "metadata": {
  "kernelspec": {
   "display_name": "Python 3 (ipykernel)",
   "language": "python",
   "name": "python3"
  },
  "language_info": {
   "codemirror_mode": {
    "name": "ipython",
    "version": 3
   },
   "file_extension": ".py",
   "mimetype": "text/x-python",
   "name": "python",
   "nbconvert_exporter": "python",
   "pygments_lexer": "ipython3",
   "version": "3.10.6"
  }
 },
 "nbformat": 4,
 "nbformat_minor": 5
}
