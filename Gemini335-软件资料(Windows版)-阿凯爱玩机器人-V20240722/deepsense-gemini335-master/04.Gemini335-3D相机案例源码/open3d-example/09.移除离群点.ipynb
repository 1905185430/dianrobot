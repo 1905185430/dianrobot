{
 "cells": [
  {
   "cell_type": "markdown",
   "id": "46b240c0",
   "metadata": {},
   "source": [
    "```\n",
    "@作者: 阿凯爱玩机器人\n",
    "@QQ: 244561792\n",
    "@微信: xingshunkai\n",
    "@邮箱: xingshunkai@qq.com\n",
    "@网址: deepsenserobot.com\n",
    "@B站: \"阿凯爱玩机器人\"\n",
    "```"
   ]
  },
  {
   "cell_type": "markdown",
   "id": "e77fa871",
   "metadata": {},
   "source": [
    "## 导入依赖"
   ]
  },
  {
   "cell_type": "code",
   "execution_count": 1,
   "id": "953c90b6",
   "metadata": {},
   "outputs": [
    {
     "name": "stderr",
     "output_type": "stream",
     "text": [
      "pybullet build time: Jun  3 2022 02:05:55\n"
     ]
    }
   ],
   "source": [
    "import copy\n",
    "import numpy as np\n",
    "import cv2\n",
    "import open3d as o3d\n",
    "# 自定义库\n",
    "from kyle_robot_toolbox.open3d import *"
   ]
  },
  {
   "cell_type": "markdown",
   "id": "96356f5b",
   "metadata": {},
   "source": [
    "## 载入点云"
   ]
  },
  {
   "cell_type": "code",
   "execution_count": 2,
   "id": "8db2af28",
   "metadata": {},
   "outputs": [],
   "source": [
    "# 载入盒子表面点云\n",
    "box_panel_pcd = o3d.io.read_point_cloud(\"./data/example/box_pose/box_panel_pcd.pcd\")\n",
    "\n",
    "# 赋值为灰色\n",
    "box_panel_pcd.paint_uniform_color([0.5, 0.5, 0.5])\n",
    "\n",
    "# 点云可视化\n",
    "o3d.visualization.draw_geometries([box_panel_pcd],\\\n",
    "                                  window_name=\"盒子上表面点云\")"
   ]
  },
  {
   "cell_type": "markdown",
   "id": "ab29b80f",
   "metadata": {},
   "source": [
    "## 移除离群点"
   ]
  },
  {
   "cell_type": "code",
   "execution_count": 4,
   "id": "b39803ce",
   "metadata": {},
   "outputs": [],
   "source": [
    "cl, ind = box_panel_pcd.remove_statistical_outlier(nb_neighbors=10,\n",
    "                                        std_ratio=3.0)\n",
    "\n",
    "display_inlier_outlier(box_panel_pcd, ind)"
   ]
  },
  {
   "cell_type": "code",
   "execution_count": null,
   "id": "cb3ca6cc",
   "metadata": {},
   "outputs": [],
   "source": [
    "box_panel_filter = box_panel_pcd.select_by_index(ind)\n",
    "draw_geometry([box_panel_filter], window_name=\"移除离群点后的上表面点云\")"
   ]
  },
  {
   "cell_type": "code",
   "execution_count": 5,
   "id": "0dd9ab41",
   "metadata": {},
   "outputs": [
    {
     "data": {
      "text/plain": [
       "True"
      ]
     },
     "execution_count": 5,
     "metadata": {},
     "output_type": "execute_result"
    }
   ],
   "source": [
    "o3d.io.write_point_cloud(\"./data/example/box_pose/box_panel_filter.pcd\", box_panel_filter)"
   ]
  }
 ],
 "metadata": {
  "kernelspec": {
   "display_name": "Python 3 (ipykernel)",
   "language": "python",
   "name": "python3"
  },
  "language_info": {
   "codemirror_mode": {
    "name": "ipython",
    "version": 3
   },
   "file_extension": ".py",
   "mimetype": "text/x-python",
   "name": "python",
   "nbconvert_exporter": "python",
   "pygments_lexer": "ipython3",
   "version": "3.10.6"
  }
 },
 "nbformat": 4,
 "nbformat_minor": 5
}
