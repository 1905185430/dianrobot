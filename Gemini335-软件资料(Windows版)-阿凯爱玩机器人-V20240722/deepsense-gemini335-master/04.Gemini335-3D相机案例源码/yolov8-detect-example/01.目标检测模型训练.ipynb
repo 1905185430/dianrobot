{
 "cells": [
  {
   "cell_type": "markdown",
   "id": "eeb75d61",
   "metadata": {},
   "source": [
    "## 导入依赖"
   ]
  },
  {
   "cell_type": "code",
   "execution_count": 3,
   "id": "00891b25",
   "metadata": {},
   "outputs": [],
   "source": [
    "import os\n",
    "from ultralytics import YOLO"
   ]
  },
  {
   "cell_type": "markdown",
   "id": "6ba14c65",
   "metadata": {},
   "source": [
    "## 创建一个YoloV8对象"
   ]
  },
  {
   "cell_type": "code",
   "execution_count": 5,
   "id": "de7d196d",
   "metadata": {},
   "outputs": [
    {
     "name": "stdout",
     "output_type": "stream",
     "text": [
      "/home/kyle/Project/奥比中光3D相机/deepsense-gemini2/03.Gemini-3D相机案例源码/yolov8-example/yolov8n.yaml\n"
     ]
    }
   ],
   "source": [
    "# 模型路径\n",
    "model_config_path = os.path.join(os.path.abspath(\".\"), \"yolov8n.yaml\")\n",
    "print(model_config_path)"
   ]
  },
  {
   "cell_type": "code",
   "execution_count": 6,
   "id": "3ce16c70",
   "metadata": {},
   "outputs": [
    {
     "name": "stderr",
     "output_type": "stream",
     "text": [
      "\n",
      "                   from  n    params  module                                       arguments                     \n",
      "  0                  -1  1       464  ultralytics.nn.modules.Conv                  [3, 16, 3, 2]                 \n",
      "  1                  -1  1      4672  ultralytics.nn.modules.Conv                  [16, 32, 3, 2]                \n",
      "  2                  -1  1      7360  ultralytics.nn.modules.C2f                   [32, 32, 1, True]             \n",
      "  3                  -1  1     18560  ultralytics.nn.modules.Conv                  [32, 64, 3, 2]                \n",
      "  4                  -1  2     49664  ultralytics.nn.modules.C2f                   [64, 64, 2, True]             \n",
      "  5                  -1  1     73984  ultralytics.nn.modules.Conv                  [64, 128, 3, 2]               \n",
      "  6                  -1  2    197632  ultralytics.nn.modules.C2f                   [128, 128, 2, True]           \n",
      "  7                  -1  1    295424  ultralytics.nn.modules.Conv                  [128, 256, 3, 2]              \n",
      "  8                  -1  1    460288  ultralytics.nn.modules.C2f                   [256, 256, 1, True]           \n",
      "  9                  -1  1    164608  ultralytics.nn.modules.SPPF                  [256, 256, 5]                 \n",
      " 10                  -1  1         0  torch.nn.modules.upsampling.Upsample         [None, 2, 'nearest']          \n",
      " 11             [-1, 6]  1         0  ultralytics.nn.modules.Concat                [1]                           \n",
      " 12                  -1  1    148224  ultralytics.nn.modules.C2f                   [384, 128, 1]                 \n",
      " 13                  -1  1         0  torch.nn.modules.upsampling.Upsample         [None, 2, 'nearest']          \n",
      " 14             [-1, 4]  1         0  ultralytics.nn.modules.Concat                [1]                           \n",
      " 15                  -1  1     37248  ultralytics.nn.modules.C2f                   [192, 64, 1]                  \n",
      " 16                  -1  1     36992  ultralytics.nn.modules.Conv                  [64, 64, 3, 2]                \n",
      " 17            [-1, 12]  1         0  ultralytics.nn.modules.Concat                [1]                           \n",
      " 18                  -1  1    123648  ultralytics.nn.modules.C2f                   [192, 128, 1]                 \n",
      " 19                  -1  1    147712  ultralytics.nn.modules.Conv                  [128, 128, 3, 2]              \n",
      " 20             [-1, 9]  1         0  ultralytics.nn.modules.Concat                [1]                           \n",
      " 21                  -1  1    493056  ultralytics.nn.modules.C2f                   [384, 256, 1]                 \n",
      " 22        [15, 18, 21]  1    751507  ultralytics.nn.modules.Detect                [1, [64, 128, 256]]           \n",
      "YOLOv8n summary: 225 layers, 3011043 parameters, 3011027 gradients, 8.2 GFLOPs\n",
      "\n"
     ]
    }
   ],
   "source": [
    "# 创建一个YoloV8n的模型\n",
    "# 注意事项: 传入绝对路径\n",
    "# 传入的是yolov8n.yaml, YOLO会找到yolov8.yaml并使用里面的n选项\n",
    "model = YOLO(model_config_path)"
   ]
  },
  {
   "cell_type": "markdown",
   "id": "449fe3ef",
   "metadata": {},
   "source": [
    "## 训练模型"
   ]
  },
  {
   "cell_type": "code",
   "execution_count": 7,
   "id": "cfdb39f8",
   "metadata": {},
   "outputs": [
    {
     "name": "stdout",
     "output_type": "stream",
     "text": [
      "/home/kyle/Project/奥比中光3D相机/deepsense-gemini2/03.Gemini-3D相机案例源码/yolov8-example/yolov8n.yaml\n"
     ]
    }
   ],
   "source": [
    "# 模型路径\n",
    "dataset_config_path = os.path.join(os.path.abspath(\".\"), \"..\", \"datasets\", \"bottle_cap.yaml\")\n",
    "print(dataset_config_path)"
   ]
  },
  {
   "cell_type": "code",
   "execution_count": null,
   "id": "b52c3bc5",
   "metadata": {},
   "outputs": [],
   "source": [
    "# 这里得传入数据集YAML配置文件绝对路径\n",
    "# 注意事项: \n",
    "# 1.不可传入相对路径\n",
    "# 2.imgsz需要是32的倍数\n",
    "model.train(data=dataset_config_path, batch=10, epochs=300, imgsz=1088)"
   ]
  }
 ],
 "metadata": {
  "kernelspec": {
   "display_name": "Python 3 (ipykernel)",
   "language": "python",
   "name": "python3"
  },
  "language_info": {
   "codemirror_mode": {
    "name": "ipython",
    "version": 3
   },
   "file_extension": ".py",
   "mimetype": "text/x-python",
   "name": "python",
   "nbconvert_exporter": "python",
   "pygments_lexer": "ipython3",
   "version": "3.8.16"
  }
 },
 "nbformat": 4,
 "nbformat_minor": 5
}
